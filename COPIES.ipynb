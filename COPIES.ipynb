{
  "cells": [
    {
      "cell_type": "code",
      "execution_count": null,
      "metadata": {},
      "outputs": [],
      "source": [
        "#Clone the repository from GitHub\n",
        "!git clone https://github.com/Zhao-Group/COPIES.git"
      ]
    },
    {
      "cell_type": "code",
      "execution_count": null,
      "metadata": {},
      "outputs": [],
      "source": [
        "#Download BLAST and install necessary packages\n",
        "!bash COPIES/setup.sh"
      ]
    },
    {
      "cell_type": "code",
      "execution_count": null,
      "metadata": {},
      "outputs": [],
      "source": [
        "#Describe input parameters for CRISPR-COPIES script\n",
        "!cd COPIES && python code/main.py -h"
      ]
    },
    {
      "cell_type": "code",
      "execution_count": null,
      "metadata": {},
      "outputs": [],
      "source": [
        "#For S. cerevisiae, run:\n",
        "!cd COPIES && python code/main.py -g '../data/s288c/GCF_000146045.2_R64_genomic.fna' -t '../data/s288c/GCF_000146045.2_R64_feature_table.txt' -p NGG -o 3prime -l 20 -sl 10 --edit_dist 6 --intspace 350 -out ../data/s288c/output.csv --distal_end_len 10000 -hr_l 50 --protein_file '../data/s288c/GCF_000146045.2_R64_protein.faa' --blast_org 'Saccharomyces cerevisiae' -n 10\n",
        "!cd COPIES && python code/create_viz.py"
      ]
    },
    {
      "cell_type": "code",
      "execution_count": null,
      "metadata": {},
      "outputs": [],
      "source": [
        "#If you want to run the script for a new organism/strain, create a folder inside the directory 'data' and update the command. Please refer to the sample parameter table here - https://biofoundry.web.illinois.edu/copies/docs.\n",
        "#To create an interactive visualization (same output as the online interface), change 's228c' on lines 13 and 86 to the folder name for the new organism/strain in the file 'create_viz.py' located in the 'code' folder."
      ]
    },
    {
      "cell_type": "markdown",
      "metadata": {
        "id": "u022VMEr_qos"
      },
      "source": []
    }
  ],
  "metadata": {
    "colab": {
      "provenance": []
    },
    "kernelspec": {
      "display_name": "Python 3",
      "name": "python3"
    },
    "language_info": {
      "name": "python"
    }
  },
  "nbformat": 4,
  "nbformat_minor": 0
}
